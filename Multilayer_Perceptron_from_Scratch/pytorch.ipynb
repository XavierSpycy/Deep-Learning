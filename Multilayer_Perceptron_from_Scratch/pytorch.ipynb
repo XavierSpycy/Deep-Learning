{
  "cells": [
    {
      "cell_type": "code",
      "execution_count": null,
      "metadata": {
        "id": "Ux3of0LLl1x5"
      },
      "outputs": [],
      "source": [
        "from tqdm import tqdm\n",
        "import numpy as np\n",
        "import matplotlib.pyplot as plt\n",
        "import torch\n",
        "from torch import nn\n",
        "from torch.nn import init\n",
        "from torch.utils.data import TensorDataset, DataLoader\n",
        "from torch.optim import Adagrad\n",
        "from sklearn.metrics import accuracy_score"
      ]
    },
    {
      "cell_type": "code",
      "execution_count": null,
      "metadata": {
        "id": "yli6uKV3maoc"
      },
      "outputs": [],
      "source": [
        "class MLP(nn.Module):\n",
        "  def __init__(self):\n",
        "    super(MLP, self).__init__()\n",
        "    self.net = nn.Sequential(\n",
        "        nn.Linear(128, 48),\n",
        "        nn.Softplus(),\n",
        "        nn.BatchNorm1d(48),\n",
        "        nn.Linear(48, 24),\n",
        "        nn.Softplus(),\n",
        "        nn.BatchNorm1d(24),\n",
        "        nn.Linear(24, 10)\n",
        "    )\n",
        "    self._initialize_weights()\n",
        "\n",
        "  def forward(self, x):\n",
        "    return self.net(x)\n",
        "\n",
        "  def _initialize_weights(self):\n",
        "    for m in self.modules():\n",
        "      if isinstance(m, nn.Linear):\n",
        "        init.kaiming_uniform_(m.weight, a=0, nonlinearity='linear')\n",
        "        init.constant_(m.bias, 0)"
      ]
    },
    {
      "cell_type": "code",
      "execution_count": null,
      "metadata": {
        "id": "b0mPbDaPruWX"
      },
      "outputs": [],
      "source": [
        "def train(model, epochs, train_loader, criterion, optimizer):\n",
        "  loss_list = []\n",
        "  for epoch in tqdm(range(epochs)):\n",
        "    total_loss = 0\n",
        "    for x, y in train_loader:\n",
        "      if torch.cuda.is_available():\n",
        "        device = torch.device('cuda')\n",
        "        x, y = x.to(device), y.to(device)\n",
        "      optimizer.zero_grad()\n",
        "      p = model(x)\n",
        "      loss = criterion(p, y)\n",
        "      total_loss += loss.item()\n",
        "      loss.backward()\n",
        "      optimizer.step()\n",
        "    avg_loss = total_loss / len(train_loader)\n",
        "    loss_list.append(avg_loss)\n",
        "  return loss_list"
      ]
    },
    {
      "cell_type": "code",
      "execution_count": null,
      "metadata": {
        "id": "QAA6rcOczgYG"
      },
      "outputs": [],
      "source": [
        "def accuracy(model, data_loader):\n",
        "  model.eval()\n",
        "  labels = []\n",
        "  preds = []\n",
        "  with torch.no_grad():\n",
        "    for x, y in data_loader:\n",
        "      if torch.cuda.is_available():\n",
        "        device = torch.device('cuda')\n",
        "        x, y = x.to(device), y.to(device)\n",
        "      logits = model(x)\n",
        "      _, p = torch.max(logits.data, 1)\n",
        "      labels.extend(y.cpu().numpy())\n",
        "      preds.extend(p.cpu().numpy())\n",
        "  labels = np.array(labels)\n",
        "  preds = np.array(preds)\n",
        "  model.train()\n",
        "  return accuracy_score(labels, preds)"
      ]
    },
    {
      "cell_type": "code",
      "execution_count": null,
      "metadata": {
        "id": "75MRjnsGrC2K"
      },
      "outputs": [],
      "source": [
        "X_train = np.load(\"./data/train_data.npy\")\n",
        "y_train = np.load(\"./data/train_label.npy\")\n",
        "X_test = np.load(\"./data/test_data.npy\")\n",
        "y_test = np.load(\"./data/test_label.npy\")\n",
        "y_train = y_train.reshape(-1)\n",
        "y_test = y_test.reshape(-1)\n",
        "X_train, y_train = torch.from_numpy(X_train).float(), torch.from_numpy(y_train).long()\n",
        "X_test, y_test = torch.from_numpy(X_test).float(), torch.from_numpy(y_test).long()\n",
        "train_dataset = TensorDataset(X_train, y_train)\n",
        "test_dataset = TensorDataset(X_test, y_test)\n",
        "train_loader = DataLoader(train_dataset, batch_size=128, shuffle=True, num_workers=2)\n",
        "test_loader = DataLoader(test_dataset, batch_size=128, shuffle=False, num_workers=2)"
      ]
    },
    {
      "cell_type": "code",
      "execution_count": null,
      "metadata": {
        "colab": {
          "base_uri": "https://localhost:8080/"
        },
        "id": "2pDoLS7g11jj",
        "outputId": "121b0cc3-b52f-42ce-803d-21d50edc9e70"
      },
      "outputs": [
        {
          "name": "stderr",
          "output_type": "stream",
          "text": [
            "100%|██████████| 500/500 [21:11<00:00,  2.54s/it]\n"
          ]
        }
      ],
      "source": [
        "model = MLP()\n",
        "epochs = 500\n",
        "criterion = nn.CrossEntropyLoss()\n",
        "optimizer = Adagrad(model.parameters(), lr=1e-3)\n",
        "loss = train(model, epochs, train_loader, criterion, optimizer)"
      ]
    },
    {
      "cell_type": "code",
      "execution_count": null,
      "metadata": {
        "colab": {
          "base_uri": "https://localhost:8080/",
          "height": 501
        },
        "id": "tVt1u3d52t5Y",
        "outputId": "7ab2e60b-02cd-410e-d537-c065b76fab93"
      },
      "outputs": [
        {
          "name": "stdout",
          "output_type": "stream",
          "text": [
            "Accuracy on training set: 47.25%\n",
            "Accuracy on validation set: 45.58%\n",
            "Loss: 1.5270\n"
          ]
        },
        {
          "data": {
            "text/plain": [
              "[<matplotlib.lines.Line2D at 0x7f89a45c0670>]"
            ]
          },
          "execution_count": 57,
          "metadata": {},
          "output_type": "execute_result"
        },
        {
          "data": {
            "image/png": "[encoded data removed]",
            "text/plain": [
              "<Figure size 640x480 with 1 Axes>"
            ]
          },
          "metadata": {},
          "output_type": "display_data"
        }
      ],
      "source": [
        "print(\"Accuracy on training set: {:.2f}%\".format(accuracy(model, train_loader)*100))\n",
        "print(\"Accuracy on validation set: {:.2f}%\".format(accuracy(model, test_loader)*100))\n",
        "print(\"Loss: {:.4f}\".format(loss[-1]))\n",
        "plt.plot(loss)"
      ]
    },
    {
      "cell_type": "code",
      "execution_count": null,
      "metadata": {
        "id": "eN_Ai28Z2w89"
      },
      "outputs": [],
      "source": []
    }
  ],
  "metadata": {
    "colab": {
      "provenance": []
    },
    "kernelspec": {
      "display_name": "Python 3",
      "name": "python3"
    },
    "language_info": {
      "name": "python"
    }
  },
  "nbformat": 4,
  "nbformat_minor": 0
}
